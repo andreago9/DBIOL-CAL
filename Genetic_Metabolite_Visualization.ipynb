{
 "cells": [
  {
   "cell_type": "markdown",
   "id": "a6f7d470-ddbb-421a-8be8-1407c862bd5e",
   "metadata": {},
   "source": [
    "<center>\n",
    "    <h1>ETH Zurich DBIOL CAL Application</h1>\n",
    "    <h2>Interactive Graphics in Python</h2>\n",
    "    <h3>Jupyter Notebook Examples</h3>\n",
    "    <h3>Genetic and Metabolite Visualization</h3>\n",
    "    <h4>Andrea Ferreira</h4>\n",
    "    <h5>August 2024</h5>\n",
    "</center>\n"
   ]
  },
  {
   "cell_type": "markdown",
   "id": "40321155-58b6-4e46-a1b5-068f76a09b1d",
   "metadata": {},
   "source": [
    "## Introduction\n",
    "\n",
    "In this notebook, I will demonstrate simulations related to the findings of a genome-wide association study (GWAS) that investigates metabolic traits. The paper, titled Genome-Wide Association Study of Metabolic Traits Reveals Novel Gene-Metabolite-Disease Links, explores how certain genetic variations are linked to metabolic traits and their potential implications for diseases. The study, conducted by Rueedi et al. (2014), provides insights into novel gene-metabolite associations and their possible role in disease progression. (more at [PLOS Genetics](https://journals.plos.org/plosgenetics/article?id=10.1371/journal.pgen.1004132#s4))"
   ]
  },
  {
   "cell_type": "markdown",
   "id": "4824f931-6890-4664-a3f7-60c1723fa923",
   "metadata": {},
   "source": [
    "### Example 1 - matplotlib and ipywidgets\n",
    "\n",
    "The code below demonstrates an **interactive visualization** that simulates the relationship between Single Nucleotide Polymorphisms (SNPs) and metabolite concentrations using fictional data. The code utilizes Python libraries such as numpy for data simulation, **matplotlib** for plotting, and **ipywidgets** for creating an interactive user interface. \n",
    "\n",
    "The user can select different SNPs and metabolites from dropdown menus to explore how variations in genotypes might correlate with metabolite concentrations.\n"
   ]
  },
  {
   "cell_type": "code",
   "execution_count": 11,
   "id": "094aec0a-7751-4413-aac2-dc8ba6a34711",
   "metadata": {},
   "outputs": [
    {
     "data": {
      "application/vnd.jupyter.widget-view+json": {
       "model_id": "3f7da20b0c7d43a5a9f5d2ed6aef9451",
       "version_major": 2,
       "version_minor": 0
      },
      "text/plain": [
       "interactive(children=(Dropdown(description='SNP:', options=('rs492602', 'rs8101881'), value='rs492602'), Dropd…"
      ]
     },
     "metadata": {},
     "output_type": "display_data"
    },
    {
     "data": {
      "text/plain": [
       "<function __main__.plot_interactive(snp, metabolite)>"
      ]
     },
     "execution_count": 11,
     "metadata": {},
     "output_type": "execute_result"
    }
   ],
   "source": [
    "import numpy as np\n",
    "import matplotlib.pyplot as plt\n",
    "import ipywidgets as widgets\n",
    "from ipywidgets import interact\n",
    "\n",
    "# Data simulation: Hypothetical data for SNPs and metabolite concentrations\n",
    "snp_data = {\n",
    "    'rs492602': np.random.normal(loc=0.5, scale=0.1, size=100),\n",
    "    'rs8101881': np.random.normal(loc=0.7, scale=0.1, size=100)\n",
    "}\n",
    "\n",
    "metabolite_data = {\n",
    "    'Fucose': np.random.normal(loc=100, scale=10, size=100),\n",
    "    'Lysine': np.random.normal(loc=150, scale=15, size=100)\n",
    "}\n",
    "\n",
    "# Function to plot the data\n",
    "def plot_interactive(snp, metabolite):\n",
    "    plt.figure(figsize=(10, 6))\n",
    "    plt.scatter(snp_data[snp], metabolite_data[metabolite], alpha=0.6, c='blue')\n",
    "    plt.title(f'Relationship between {snp} and {metabolite}')\n",
    "    plt.xlabel(f'Genotype {snp}')\n",
    "    plt.ylabel(f'Concentration of {metabolite}')\n",
    "    plt.grid(True)\n",
    "    plt.show()\n",
    "\n",
    "# Creating the interactive widget\n",
    "interact(\n",
    "    plot_interactive,\n",
    "    snp=widgets.Dropdown(\n",
    "        options=snp_data.keys(),\n",
    "        value='rs492602',\n",
    "        description='SNP:',\n",
    "    ),\n",
    "    metabolite=widgets.Dropdown(\n",
    "        options=metabolite_data.keys(),\n",
    "        value='Fucose',\n",
    "        description='Metabolite:',\n",
    "    )\n",
    ")\n"
   ]
  },
  {
   "cell_type": "markdown",
   "id": "cbf18bbb-0780-4179-b7ca-1664c2cd928b",
   "metadata": {},
   "source": [
    "### Example 2 - matplotlib and ipywidgets\n",
    "\n",
    "In this second example, the code simulates how different Single Nucleotide Polymorphisms (SNPs) might affect the concentration of specific metabolites using fictional data. This example allows users to interactively explore the effects of two SNPs, *rs492602* and *rs8101881*, on the concentrations of *Fucose* and *Lysine*, respectively. By adjusting the concentration factor, users can observe how changes in SNP genotypes potentially influence metabolite levels. \n",
    "\n",
    "The interactive elements are implemented using ipywidgets, enabling a dynamic and visual exploration of the data.\n"
   ]
  },
  {
   "cell_type": "code",
   "execution_count": 12,
   "id": "09330809-a8b5-447d-b92a-1be06cb954cd",
   "metadata": {},
   "outputs": [
    {
     "data": {
      "application/vnd.jupyter.widget-view+json": {
       "model_id": "76340cb688114919ba3709553faf9558",
       "version_major": 2,
       "version_minor": 0
      },
      "text/plain": [
       "interactive(children=(Dropdown(description='SNP:', options=('rs492602', 'rs8101881'), value='rs492602'), Float…"
      ]
     },
     "metadata": {},
     "output_type": "display_data"
    }
   ],
   "source": [
    "import matplotlib.pyplot as plt\n",
    "import numpy as np\n",
    "import ipywidgets as widgets\n",
    "from ipywidgets import interact\n",
    "\n",
    "# Fictional data simulating metabolite concentration for different SNPs\n",
    "snp_rs492602 = np.linspace(0, 2, 11)  # Fictional values for SNP rs492602 genotype\n",
    "snp_rs8101881 = np.linspace(0, 2, 11)  # Fictional values for SNP rs8101881 genotype\n",
    "\n",
    "# Base concentration of Fucose and Lysine\n",
    "concentracao_fucose = np.array([100, 110, 115, 120, 130, 140, 145, 150, 160, 170, 180])\n",
    "concentracao_lisina = np.array([150, 155, 160, 165, 170, 175, 180, 185, 190, 195, 200])\n",
    "\n",
    "# Function to update the graph based on SNP and concentration factor\n",
    "def atualizar_grafico(snp, fator_concentracao):\n",
    "    plt.figure(figsize=(8, 6))\n",
    "    if snp == 'rs492602':\n",
    "        plt.plot(snp_rs492602, concentracao_fucose * fator_concentracao, marker='o', color='blue', label='Fucose')\n",
    "        plt.title('Effect of SNP rs492602 on Fucose Concentration')\n",
    "    elif snp == 'rs8101881':\n",
    "        plt.plot(snp_rs8101881, concentracao_lisina * fator_concentracao, marker='o', color='green', label='Lysine')\n",
    "        plt.title('Effect of SNP rs8101881 on Lysine Concentration')\n",
    "    \n",
    "    plt.xlabel('Genotype (SNP)')\n",
    "    plt.ylabel('Metabolite Concentration (µmol/L)')\n",
    "    plt.ylim(0, 250)\n",
    "    plt.legend()\n",
    "    plt.grid(True)\n",
    "    plt.show()\n",
    "\n",
    "# Interactive widget\n",
    "interact(\n",
    "    atualizar_grafico,\n",
    "    snp=widgets.Dropdown(\n",
    "        options=['rs492602', 'rs8101881'],\n",
    "        value='rs492602',\n",
    "        description='SNP:',\n",
    "    ),\n",
    "    fator_concentracao=widgets.FloatSlider(value=1.0, min=0.5, max=2.0, step=0.1, description='Concentration Factor:')\n",
    ");\n"
   ]
  },
  {
   "cell_type": "markdown",
   "id": "c5a96089-9c83-4a3e-a3ca-a7073f9a2f00",
   "metadata": {},
   "source": [
    "### Example 3 - Plotly\n",
    "\n",
    "In this fourth example, the code illustrates how to use Plotly to create an interactive plot that examines the relationship between different SNPs and metabolite concentrations, with an additional feature to adjust the concentration factor.\n"
   ]
  },
  {
   "cell_type": "code",
   "execution_count": 14,
   "id": "da284732-541a-4de5-af54-8a383fed3cb9",
   "metadata": {},
   "outputs": [
    {
     "data": {
      "application/vnd.jupyter.widget-view+json": {
       "model_id": "3169c454e2db453bb712f9ca5d98c1f2",
       "version_major": 2,
       "version_minor": 0
      },
      "text/plain": [
       "interactive(children=(Dropdown(description='SNP:', options=('rs492602', 'rs8101881'), value='rs492602'), Float…"
      ]
     },
     "metadata": {},
     "output_type": "display_data"
    }
   ],
   "source": [
    "import plotly.graph_objects as go\n",
    "import numpy as np\n",
    "\n",
    "# Fictional data simulating metabolite concentration for different SNPs\n",
    "snp_rs492602 = np.linspace(0, 2, 10)  # Fictional values for SNP rs492602 genotype\n",
    "snp_rs8101881 = np.linspace(0, 2, 10)  # Fictional values for SNP rs8101881 genotype\n",
    "\n",
    "# Base concentration of Fucose and Lysine\n",
    "concentracao_fucose = np.array([100, 105, 110, 115, 120, 125, 130, 135, 140, 145])\n",
    "concentracao_lisina = np.array([150, 155, 160, 165, 170, 175, 180, 185, 190, 195])\n",
    "\n",
    "# Function to create the interactive plot\n",
    "def criar_grafico(snp, fator_concentracao):\n",
    "    if snp == 'rs492602':\n",
    "        y_data = concentracao_fucose * fator_concentracao\n",
    "        title = \"Relationship between SNP rs492602 and Fucose Concentration\"\n",
    "    elif snp == 'rs8101881':\n",
    "        y_data = concentracao_lisina * fator_concentracao\n",
    "        title = \"Relationship between SNP rs8101881 and Lysine Concentration\"\n",
    "\n",
    "    fig = go.Figure(data=go.Scatter(x=np.linspace(0, 2, 10), y=y_data, mode='markers'))\n",
    "\n",
    "    fig.update_layout(\n",
    "        title=title,\n",
    "        xaxis_title=\"Genotype (SNP)\",\n",
    "        yaxis_title=\"Metabolite Concentration (µmol/L)\",\n",
    "        template=\"plotly_dark\"\n",
    "    )\n",
    "\n",
    "    fig.show()\n",
    "\n",
    "# Interactive widgets\n",
    "import ipywidgets as widgets\n",
    "from ipywidgets import interact\n",
    "\n",
    "interact(\n",
    "    criar_grafico,\n",
    "    snp=widgets.Dropdown(\n",
    "        options=['rs492602', 'rs8101881'],\n",
    "        value='rs492602',\n",
    "        description='SNP:',\n",
    "    ),\n",
    "    fator_concentracao=widgets.FloatSlider(value=1.0, min=0.5, max=2.0, step=0.1, description='Concentration Factor:')\n",
    ");\n"
   ]
  },
  {
   "cell_type": "markdown",
   "id": "8ee3d9a9-10b2-4e18-8b18-06d075e4026b",
   "metadata": {},
   "source": [
    "### Example 4 - Plotly\n",
    "\n",
    "In this third example, the code demonstrates how to create an interactive plot using **Plotly** to visualize the impact of different SNPs on metabolite concentrations. The example uses fictional data to simulate the concentrations of *Fucose* and *Lysine* associated with two SNPs, *rs492602* and *rs8101881*. \n",
    "\n",
    "The interactive visualization is enhanced by the use of Plotly's plotly_dark theme for a visually appealing display.\n"
   ]
  },
  {
   "cell_type": "code",
   "execution_count": 13,
   "id": "40f4f054-47c4-452c-9e44-efce7ea42c77",
   "metadata": {},
   "outputs": [
    {
     "data": {
      "application/vnd.jupyter.widget-view+json": {
       "model_id": "738adb0edcd74853841d3c6bb010cecd",
       "version_major": 2,
       "version_minor": 0
      },
      "text/plain": [
       "interactive(children=(Dropdown(description='SNP:', options=('rs492602', 'rs8101881'), value='rs492602'), Outpu…"
      ]
     },
     "metadata": {},
     "output_type": "display_data"
    }
   ],
   "source": [
    "import plotly.graph_objects as go\n",
    "import numpy as np\n",
    "\n",
    "# Fictional data simulating metabolite concentration for different SNPs\n",
    "snp_rs492602 = np.linspace(0, 50, 11)  # Fictional values for SNP rs492602 genotype\n",
    "snp_rs8101881 = np.linspace(0, 50, 11)  # Fictional values for SNP rs8101881 genotype\n",
    "\n",
    "# Base concentration of Fucose and Lysine\n",
    "concentracao_fucose = [100, 95, 90, 85, 80, 75, 70, 65, 60, 55, 50]\n",
    "concentracao_lisina = [100, 90, 80, 75, 70, 60, 50, 40, 30, 20, 10]\n",
    "\n",
    "# Function to create the interactive plot\n",
    "def criar_grafico(snp):\n",
    "    if snp == 'rs492602':\n",
    "        y_data = concentracao_fucose\n",
    "        title = \"Effect of SNP rs492602 on Fucose Concentration\"\n",
    "    elif snp == 'rs8101881':\n",
    "        y_data = concentracao_lisina\n",
    "        title = \"Effect of SNP rs8101881 on Lysine Concentration\"\n",
    "\n",
    "    fig = go.Figure(data=go.Scatter(x=np.linspace(0, 50, 11), y=y_data, mode='markers+lines'))\n",
    "\n",
    "    fig.update_layout(\n",
    "        title=title,\n",
    "        xaxis_title=\"Genotype (SNP) (Fictional Scale)\",\n",
    "        yaxis_title=\"Metabolite Concentration (µmol/L)\",\n",
    "        template=\"plotly_dark\"\n",
    "    )\n",
    "\n",
    "    fig.show()\n",
    "\n",
    "# Interactive widgets\n",
    "import ipywidgets as widgets\n",
    "from ipywidgets import interact\n",
    "\n",
    "interact(\n",
    "    criar_grafico,\n",
    "    snp=widgets.Dropdown(\n",
    "        options=['rs492602', 'rs8101881'],\n",
    "        value='rs492602',\n",
    "        description='SNP:',\n",
    "    )\n",
    ");\n"
   ]
  },
  {
   "cell_type": "markdown",
   "id": "2404384a-8566-43e1-aa0e-bb2d0132ea05",
   "metadata": {},
   "source": [
    "### Example 5 - Ploty 3D\n",
    "\n",
    "In this fifth example, the code demonstrates how to create a 3D surface plot using Plotly to visualize the relationship between two SNPs and the concentration of a metabolite, Fucose. \n",
    "\n",
    "The example uses fictional data, where the concentration of Fucose is modeled as a function of the genotypes for SNPs rs492602 and rs8101881, with added random noise to simulate variability.\n",
    "\n",
    "This 3D visualization allows users to explore how variations in these two SNPs together might influence the metabolite levels, providing a comprehensive view of the potential interactions between genetic factors.\n"
   ]
  },
  {
   "cell_type": "code",
   "execution_count": 16,
   "id": "f6453b9e-d6a7-4034-9f9c-d285687c9f1d",
   "metadata": {},
   "outputs": [
    {
     "data": {
      "application/vnd.plotly.v1+json": {
       "config": {
        "plotlyServerURL": "https://plot.ly"
       },
       "data": [
        {
         "type": "surface",
         "x": [
          [
           0,
           0.2222222222222222,
           0.4444444444444444,
           0.6666666666666666,
           0.8888888888888888,
           1.1111111111111112,
           1.3333333333333333,
           1.5555555555555554,
           1.7777777777777777,
           2
          ],
          [
           0,
           0.2222222222222222,
           0.4444444444444444,
           0.6666666666666666,
           0.8888888888888888,
           1.1111111111111112,
           1.3333333333333333,
           1.5555555555555554,
           1.7777777777777777,
           2
          ],
          [
           0,
           0.2222222222222222,
           0.4444444444444444,
           0.6666666666666666,
           0.8888888888888888,
           1.1111111111111112,
           1.3333333333333333,
           1.5555555555555554,
           1.7777777777777777,
           2
          ],
          [
           0,
           0.2222222222222222,
           0.4444444444444444,
           0.6666666666666666,
           0.8888888888888888,
           1.1111111111111112,
           1.3333333333333333,
           1.5555555555555554,
           1.7777777777777777,
           2
          ],
          [
           0,
           0.2222222222222222,
           0.4444444444444444,
           0.6666666666666666,
           0.8888888888888888,
           1.1111111111111112,
           1.3333333333333333,
           1.5555555555555554,
           1.7777777777777777,
           2
          ],
          [
           0,
           0.2222222222222222,
           0.4444444444444444,
           0.6666666666666666,
           0.8888888888888888,
           1.1111111111111112,
           1.3333333333333333,
           1.5555555555555554,
           1.7777777777777777,
           2
          ],
          [
           0,
           0.2222222222222222,
           0.4444444444444444,
           0.6666666666666666,
           0.8888888888888888,
           1.1111111111111112,
           1.3333333333333333,
           1.5555555555555554,
           1.7777777777777777,
           2
          ],
          [
           0,
           0.2222222222222222,
           0.4444444444444444,
           0.6666666666666666,
           0.8888888888888888,
           1.1111111111111112,
           1.3333333333333333,
           1.5555555555555554,
           1.7777777777777777,
           2
          ],
          [
           0,
           0.2222222222222222,
           0.4444444444444444,
           0.6666666666666666,
           0.8888888888888888,
           1.1111111111111112,
           1.3333333333333333,
           1.5555555555555554,
           1.7777777777777777,
           2
          ],
          [
           0,
           0.2222222222222222,
           0.4444444444444444,
           0.6666666666666666,
           0.8888888888888888,
           1.1111111111111112,
           1.3333333333333333,
           1.5555555555555554,
           1.7777777777777777,
           2
          ]
         ],
         "y": [
          [
           0,
           0,
           0,
           0,
           0,
           0,
           0,
           0,
           0,
           0
          ],
          [
           0.2222222222222222,
           0.2222222222222222,
           0.2222222222222222,
           0.2222222222222222,
           0.2222222222222222,
           0.2222222222222222,
           0.2222222222222222,
           0.2222222222222222,
           0.2222222222222222,
           0.2222222222222222
          ],
          [
           0.4444444444444444,
           0.4444444444444444,
           0.4444444444444444,
           0.4444444444444444,
           0.4444444444444444,
           0.4444444444444444,
           0.4444444444444444,
           0.4444444444444444,
           0.4444444444444444,
           0.4444444444444444
          ],
          [
           0.6666666666666666,
           0.6666666666666666,
           0.6666666666666666,
           0.6666666666666666,
           0.6666666666666666,
           0.6666666666666666,
           0.6666666666666666,
           0.6666666666666666,
           0.6666666666666666,
           0.6666666666666666
          ],
          [
           0.8888888888888888,
           0.8888888888888888,
           0.8888888888888888,
           0.8888888888888888,
           0.8888888888888888,
           0.8888888888888888,
           0.8888888888888888,
           0.8888888888888888,
           0.8888888888888888,
           0.8888888888888888
          ],
          [
           1.1111111111111112,
           1.1111111111111112,
           1.1111111111111112,
           1.1111111111111112,
           1.1111111111111112,
           1.1111111111111112,
           1.1111111111111112,
           1.1111111111111112,
           1.1111111111111112,
           1.1111111111111112
          ],
          [
           1.3333333333333333,
           1.3333333333333333,
           1.3333333333333333,
           1.3333333333333333,
           1.3333333333333333,
           1.3333333333333333,
           1.3333333333333333,
           1.3333333333333333,
           1.3333333333333333,
           1.3333333333333333
          ],
          [
           1.5555555555555554,
           1.5555555555555554,
           1.5555555555555554,
           1.5555555555555554,
           1.5555555555555554,
           1.5555555555555554,
           1.5555555555555554,
           1.5555555555555554,
           1.5555555555555554,
           1.5555555555555554
          ],
          [
           1.7777777777777777,
           1.7777777777777777,
           1.7777777777777777,
           1.7777777777777777,
           1.7777777777777777,
           1.7777777777777777,
           1.7777777777777777,
           1.7777777777777777,
           1.7777777777777777,
           1.7777777777777777
          ],
          [
           2,
           2,
           2,
           2,
           2,
           2,
           2,
           2,
           2,
           2
          ]
         ],
         "z": [
          [
           100.54299864729879,
           103.58569539209253,
           107.37226818134305,
           113.54886357909685,
           117.69435592580544,
           121.82065274733358,
           128.46528866809868,
           129.4702168607109,
           134.92138016359348,
           140.45489517413662
          ],
          [
           101.60220543504097,
           107.68750605854984,
           114.54399896416648,
           115.90969398951233,
           122.52740796612024,
           124.96669890413192,
           128.7262598497332,
           134.8246978758316,
           139.05890082988637,
           144.04103327591113
          ],
          [
           106.79726400980628,
           112.2570918705653,
           115.60184400379677,
           122.22494934535715,
           124.0529036052202,
           129.3733919685187,
           132.28307706963693,
           137.73604066644492,
           141.89322716570288,
           147.1245374706361
          ],
          [
           109.90929736466373,
           115.44704580735923,
           117.95664265571325,
           121.78187966685348,
           128.52295678793104,
           132.08548774121888,
           137.3703934639789,
           140.74013027831452,
           146.55223818393137,
           150.03973017474323
          ],
          [
           113.71234159297212,
           118.25034362599462,
           121.45738976335691,
           125.37951908256682,
           129.8912259511786,
           134.16358168516064,
           140.64499594198722,
           144.12927067359192,
           149.10052517170885,
           152.4242616176094
          ],
          [
           118.6165544632967,
           120.20787189457728,
           123.85308303154439,
           129.57237892281955,
           133.62858875153228,
           138.57548555723093,
           144.68826672214595,
           147.48538680834994,
           151.6256861441662,
           158.19128629063525
          ],
          [
           119.59473416028038,
           125.10117343055974,
           127.41679798962936,
           132.35246328188575,
           138.6751867356363,
           141.07684329674444,
           147.91487067105524,
           150.59117286416776,
           154.68839330771405,
           158.90291815303345
          ],
          [
           121.91509593634252,
           126.14542920803571,
           132.87906885891218,
           137.26308830740027,
           139.2746513278532,
           145.24550706696428,
           149.094059009118,
           155.97973139596542,
           160.33738496973325,
           163.0875701952158
          ],
          [
           126.79931275962531,
           131.15690528592276,
           136.26594695959878,
           138.4065760877187,
           146.38794626673877,
           149.29682075961946,
           154.09726421686904,
           158.96704170640328,
           161.55312788425462,
           167.71900095389137
          ],
          [
           128.53737118369395,
           134.64875091087654,
           139.49793343398844,
           143.3373712552646,
           148.42206846673955,
           151.8628897920795,
           156.54914672246528,
           160.627601133407,
           165.59646443302736,
           170.62958338430317
          ]
         ]
        }
       ],
       "layout": {
        "autosize": true,
        "margin": {
         "b": 0,
         "l": 0,
         "r": 0,
         "t": 50
        },
        "scene": {
         "aspectmode": "auto",
         "aspectratio": {
          "x": 1,
          "y": 1,
          "z": 1
         },
         "camera": {
          "center": {
           "x": 0,
           "y": 0,
           "z": 0
          },
          "eye": {
           "x": -0.7841967333981543,
           "y": 2.0176515185395036,
           "z": -0.0402222955945807
          },
          "projection": {
           "type": "perspective"
          },
          "up": {
           "x": 0,
           "y": 0,
           "z": 1
          }
         },
         "xaxis": {
          "title": {
           "font": {
            "size": 10
           },
           "text": "Genotype rs492602"
          },
          "type": "linear"
         },
         "yaxis": {
          "title": {
           "font": {
            "size": 10
           },
           "text": "Genotype rs8101881"
          },
          "type": "linear"
         },
         "zaxis": {
          "title": {
           "font": {
            "size": 10
           },
           "text": "Fucose Concentration (µmol/L)"
          },
          "type": "linear"
         }
        },
        "template": {
         "data": {
          "bar": [
           {
            "error_x": {
             "color": "#f2f5fa"
            },
            "error_y": {
             "color": "#f2f5fa"
            },
            "marker": {
             "line": {
              "color": "rgb(17,17,17)",
              "width": 0.5
             },
             "pattern": {
              "fillmode": "overlay",
              "size": 10,
              "solidity": 0.2
             }
            },
            "type": "bar"
           }
          ],
          "barpolar": [
           {
            "marker": {
             "line": {
              "color": "rgb(17,17,17)",
              "width": 0.5
             },
             "pattern": {
              "fillmode": "overlay",
              "size": 10,
              "solidity": 0.2
             }
            },
            "type": "barpolar"
           }
          ],
          "carpet": [
           {
            "aaxis": {
             "endlinecolor": "#A2B1C6",
             "gridcolor": "#506784",
             "linecolor": "#506784",
             "minorgridcolor": "#506784",
             "startlinecolor": "#A2B1C6"
            },
            "baxis": {
             "endlinecolor": "#A2B1C6",
             "gridcolor": "#506784",
             "linecolor": "#506784",
             "minorgridcolor": "#506784",
             "startlinecolor": "#A2B1C6"
            },
            "type": "carpet"
           }
          ],
          "choropleth": [
           {
            "colorbar": {
             "outlinewidth": 0,
             "ticks": ""
            },
            "type": "choropleth"
           }
          ],
          "contour": [
           {
            "colorbar": {
             "outlinewidth": 0,
             "ticks": ""
            },
            "colorscale": [
             [
              0,
              "#0d0887"
             ],
             [
              0.1111111111111111,
              "#46039f"
             ],
             [
              0.2222222222222222,
              "#7201a8"
             ],
             [
              0.3333333333333333,
              "#9c179e"
             ],
             [
              0.4444444444444444,
              "#bd3786"
             ],
             [
              0.5555555555555556,
              "#d8576b"
             ],
             [
              0.6666666666666666,
              "#ed7953"
             ],
             [
              0.7777777777777778,
              "#fb9f3a"
             ],
             [
              0.8888888888888888,
              "#fdca26"
             ],
             [
              1,
              "#f0f921"
             ]
            ],
            "type": "contour"
           }
          ],
          "contourcarpet": [
           {
            "colorbar": {
             "outlinewidth": 0,
             "ticks": ""
            },
            "type": "contourcarpet"
           }
          ],
          "heatmap": [
           {
            "colorbar": {
             "outlinewidth": 0,
             "ticks": ""
            },
            "colorscale": [
             [
              0,
              "#0d0887"
             ],
             [
              0.1111111111111111,
              "#46039f"
             ],
             [
              0.2222222222222222,
              "#7201a8"
             ],
             [
              0.3333333333333333,
              "#9c179e"
             ],
             [
              0.4444444444444444,
              "#bd3786"
             ],
             [
              0.5555555555555556,
              "#d8576b"
             ],
             [
              0.6666666666666666,
              "#ed7953"
             ],
             [
              0.7777777777777778,
              "#fb9f3a"
             ],
             [
              0.8888888888888888,
              "#fdca26"
             ],
             [
              1,
              "#f0f921"
             ]
            ],
            "type": "heatmap"
           }
          ],
          "heatmapgl": [
           {
            "colorbar": {
             "outlinewidth": 0,
             "ticks": ""
            },
            "colorscale": [
             [
              0,
              "#0d0887"
             ],
             [
              0.1111111111111111,
              "#46039f"
             ],
             [
              0.2222222222222222,
              "#7201a8"
             ],
             [
              0.3333333333333333,
              "#9c179e"
             ],
             [
              0.4444444444444444,
              "#bd3786"
             ],
             [
              0.5555555555555556,
              "#d8576b"
             ],
             [
              0.6666666666666666,
              "#ed7953"
             ],
             [
              0.7777777777777778,
              "#fb9f3a"
             ],
             [
              0.8888888888888888,
              "#fdca26"
             ],
             [
              1,
              "#f0f921"
             ]
            ],
            "type": "heatmapgl"
           }
          ],
          "histogram": [
           {
            "marker": {
             "pattern": {
              "fillmode": "overlay",
              "size": 10,
              "solidity": 0.2
             }
            },
            "type": "histogram"
           }
          ],
          "histogram2d": [
           {
            "colorbar": {
             "outlinewidth": 0,
             "ticks": ""
            },
            "colorscale": [
             [
              0,
              "#0d0887"
             ],
             [
              0.1111111111111111,
              "#46039f"
             ],
             [
              0.2222222222222222,
              "#7201a8"
             ],
             [
              0.3333333333333333,
              "#9c179e"
             ],
             [
              0.4444444444444444,
              "#bd3786"
             ],
             [
              0.5555555555555556,
              "#d8576b"
             ],
             [
              0.6666666666666666,
              "#ed7953"
             ],
             [
              0.7777777777777778,
              "#fb9f3a"
             ],
             [
              0.8888888888888888,
              "#fdca26"
             ],
             [
              1,
              "#f0f921"
             ]
            ],
            "type": "histogram2d"
           }
          ],
          "histogram2dcontour": [
           {
            "colorbar": {
             "outlinewidth": 0,
             "ticks": ""
            },
            "colorscale": [
             [
              0,
              "#0d0887"
             ],
             [
              0.1111111111111111,
              "#46039f"
             ],
             [
              0.2222222222222222,
              "#7201a8"
             ],
             [
              0.3333333333333333,
              "#9c179e"
             ],
             [
              0.4444444444444444,
              "#bd3786"
             ],
             [
              0.5555555555555556,
              "#d8576b"
             ],
             [
              0.6666666666666666,
              "#ed7953"
             ],
             [
              0.7777777777777778,
              "#fb9f3a"
             ],
             [
              0.8888888888888888,
              "#fdca26"
             ],
             [
              1,
              "#f0f921"
             ]
            ],
            "type": "histogram2dcontour"
           }
          ],
          "mesh3d": [
           {
            "colorbar": {
             "outlinewidth": 0,
             "ticks": ""
            },
            "type": "mesh3d"
           }
          ],
          "parcoords": [
           {
            "line": {
             "colorbar": {
              "outlinewidth": 0,
              "ticks": ""
             }
            },
            "type": "parcoords"
           }
          ],
          "pie": [
           {
            "automargin": true,
            "type": "pie"
           }
          ],
          "scatter": [
           {
            "marker": {
             "line": {
              "color": "#283442"
             }
            },
            "type": "scatter"
           }
          ],
          "scatter3d": [
           {
            "line": {
             "colorbar": {
              "outlinewidth": 0,
              "ticks": ""
             }
            },
            "marker": {
             "colorbar": {
              "outlinewidth": 0,
              "ticks": ""
             }
            },
            "type": "scatter3d"
           }
          ],
          "scattercarpet": [
           {
            "marker": {
             "colorbar": {
              "outlinewidth": 0,
              "ticks": ""
             }
            },
            "type": "scattercarpet"
           }
          ],
          "scattergeo": [
           {
            "marker": {
             "colorbar": {
              "outlinewidth": 0,
              "ticks": ""
             }
            },
            "type": "scattergeo"
           }
          ],
          "scattergl": [
           {
            "marker": {
             "line": {
              "color": "#283442"
             }
            },
            "type": "scattergl"
           }
          ],
          "scattermapbox": [
           {
            "marker": {
             "colorbar": {
              "outlinewidth": 0,
              "ticks": ""
             }
            },
            "type": "scattermapbox"
           }
          ],
          "scatterpolar": [
           {
            "marker": {
             "colorbar": {
              "outlinewidth": 0,
              "ticks": ""
             }
            },
            "type": "scatterpolar"
           }
          ],
          "scatterpolargl": [
           {
            "marker": {
             "colorbar": {
              "outlinewidth": 0,
              "ticks": ""
             }
            },
            "type": "scatterpolargl"
           }
          ],
          "scatterternary": [
           {
            "marker": {
             "colorbar": {
              "outlinewidth": 0,
              "ticks": ""
             }
            },
            "type": "scatterternary"
           }
          ],
          "surface": [
           {
            "colorbar": {
             "outlinewidth": 0,
             "ticks": ""
            },
            "colorscale": [
             [
              0,
              "#0d0887"
             ],
             [
              0.1111111111111111,
              "#46039f"
             ],
             [
              0.2222222222222222,
              "#7201a8"
             ],
             [
              0.3333333333333333,
              "#9c179e"
             ],
             [
              0.4444444444444444,
              "#bd3786"
             ],
             [
              0.5555555555555556,
              "#d8576b"
             ],
             [
              0.6666666666666666,
              "#ed7953"
             ],
             [
              0.7777777777777778,
              "#fb9f3a"
             ],
             [
              0.8888888888888888,
              "#fdca26"
             ],
             [
              1,
              "#f0f921"
             ]
            ],
            "type": "surface"
           }
          ],
          "table": [
           {
            "cells": {
             "fill": {
              "color": "#506784"
             },
             "line": {
              "color": "rgb(17,17,17)"
             }
            },
            "header": {
             "fill": {
              "color": "#2a3f5f"
             },
             "line": {
              "color": "rgb(17,17,17)"
             }
            },
            "type": "table"
           }
          ]
         },
         "layout": {
          "annotationdefaults": {
           "arrowcolor": "#f2f5fa",
           "arrowhead": 0,
           "arrowwidth": 1
          },
          "autotypenumbers": "strict",
          "coloraxis": {
           "colorbar": {
            "outlinewidth": 0,
            "ticks": ""
           }
          },
          "colorscale": {
           "diverging": [
            [
             0,
             "#8e0152"
            ],
            [
             0.1,
             "#c51b7d"
            ],
            [
             0.2,
             "#de77ae"
            ],
            [
             0.3,
             "#f1b6da"
            ],
            [
             0.4,
             "#fde0ef"
            ],
            [
             0.5,
             "#f7f7f7"
            ],
            [
             0.6,
             "#e6f5d0"
            ],
            [
             0.7,
             "#b8e186"
            ],
            [
             0.8,
             "#7fbc41"
            ],
            [
             0.9,
             "#4d9221"
            ],
            [
             1,
             "#276419"
            ]
           ],
           "sequential": [
            [
             0,
             "#0d0887"
            ],
            [
             0.1111111111111111,
             "#46039f"
            ],
            [
             0.2222222222222222,
             "#7201a8"
            ],
            [
             0.3333333333333333,
             "#9c179e"
            ],
            [
             0.4444444444444444,
             "#bd3786"
            ],
            [
             0.5555555555555556,
             "#d8576b"
            ],
            [
             0.6666666666666666,
             "#ed7953"
            ],
            [
             0.7777777777777778,
             "#fb9f3a"
            ],
            [
             0.8888888888888888,
             "#fdca26"
            ],
            [
             1,
             "#f0f921"
            ]
           ],
           "sequentialminus": [
            [
             0,
             "#0d0887"
            ],
            [
             0.1111111111111111,
             "#46039f"
            ],
            [
             0.2222222222222222,
             "#7201a8"
            ],
            [
             0.3333333333333333,
             "#9c179e"
            ],
            [
             0.4444444444444444,
             "#bd3786"
            ],
            [
             0.5555555555555556,
             "#d8576b"
            ],
            [
             0.6666666666666666,
             "#ed7953"
            ],
            [
             0.7777777777777778,
             "#fb9f3a"
            ],
            [
             0.8888888888888888,
             "#fdca26"
            ],
            [
             1,
             "#f0f921"
            ]
           ]
          },
          "colorway": [
           "#636efa",
           "#EF553B",
           "#00cc96",
           "#ab63fa",
           "#FFA15A",
           "#19d3f3",
           "#FF6692",
           "#B6E880",
           "#FF97FF",
           "#FECB52"
          ],
          "font": {
           "color": "#f2f5fa"
          },
          "geo": {
           "bgcolor": "rgb(17,17,17)",
           "lakecolor": "rgb(17,17,17)",
           "landcolor": "rgb(17,17,17)",
           "showlakes": true,
           "showland": true,
           "subunitcolor": "#506784"
          },
          "hoverlabel": {
           "align": "left"
          },
          "hovermode": "closest",
          "mapbox": {
           "style": "dark"
          },
          "paper_bgcolor": "rgb(17,17,17)",
          "plot_bgcolor": "rgb(17,17,17)",
          "polar": {
           "angularaxis": {
            "gridcolor": "#506784",
            "linecolor": "#506784",
            "ticks": ""
           },
           "bgcolor": "rgb(17,17,17)",
           "radialaxis": {
            "gridcolor": "#506784",
            "linecolor": "#506784",
            "ticks": ""
           }
          },
          "scene": {
           "xaxis": {
            "backgroundcolor": "rgb(17,17,17)",
            "gridcolor": "#506784",
            "gridwidth": 2,
            "linecolor": "#506784",
            "showbackground": true,
            "ticks": "",
            "zerolinecolor": "#C8D4E3"
           },
           "yaxis": {
            "backgroundcolor": "rgb(17,17,17)",
            "gridcolor": "#506784",
            "gridwidth": 2,
            "linecolor": "#506784",
            "showbackground": true,
            "ticks": "",
            "zerolinecolor": "#C8D4E3"
           },
           "zaxis": {
            "backgroundcolor": "rgb(17,17,17)",
            "gridcolor": "#506784",
            "gridwidth": 2,
            "linecolor": "#506784",
            "showbackground": true,
            "ticks": "",
            "zerolinecolor": "#C8D4E3"
           }
          },
          "shapedefaults": {
           "line": {
            "color": "#f2f5fa"
           }
          },
          "sliderdefaults": {
           "bgcolor": "#C8D4E3",
           "bordercolor": "rgb(17,17,17)",
           "borderwidth": 1,
           "tickwidth": 0
          },
          "ternary": {
           "aaxis": {
            "gridcolor": "#506784",
            "linecolor": "#506784",
            "ticks": ""
           },
           "baxis": {
            "gridcolor": "#506784",
            "linecolor": "#506784",
            "ticks": ""
           },
           "bgcolor": "rgb(17,17,17)",
           "caxis": {
            "gridcolor": "#506784",
            "linecolor": "#506784",
            "ticks": ""
           }
          },
          "title": {
           "x": 0.05
          },
          "updatemenudefaults": {
           "bgcolor": "#506784",
           "borderwidth": 0
          },
          "xaxis": {
           "automargin": true,
           "gridcolor": "#283442",
           "linecolor": "#506784",
           "ticks": "",
           "title": {
            "standoff": 15
           },
           "zerolinecolor": "#283442",
           "zerolinewidth": 2
          },
          "yaxis": {
           "automargin": true,
           "gridcolor": "#283442",
           "linecolor": "#506784",
           "ticks": "",
           "title": {
            "standoff": 15
           },
           "zerolinecolor": "#283442",
           "zerolinewidth": 2
          }
         }
        },
        "title": {
         "text": "Relationship between SNPs rs492602 and rs8101881 and Fucose Concentration"
        }
       }
      },
      "image/png": "[encoded data removed]",
      "text/html": [
       "<div>                            <div id=\"85c92238-17c3-46ec-8876-df6688fe3e2a\" class=\"plotly-graph-div\" style=\"height:525px; width:100%;\"></div>            <script type=\"text/javascript\">                require([\"plotly\"], function(Plotly) {                    window.PLOTLYENV=window.PLOTLYENV || {};                                    if (document.getElementById(\"85c92238-17c3-46ec-8876-df6688fe3e2a\")) {                    Plotly.newPlot(                        \"85c92238-17c3-46ec-8876-df6688fe3e2a\",                        [{\"x\":[[0.0,0.2222222222222222,0.4444444444444444,0.6666666666666666,0.8888888888888888,1.1111111111111112,1.3333333333333333,1.5555555555555554,1.7777777777777777,2.0],[0.0,0.2222222222222222,0.4444444444444444,0.6666666666666666,0.8888888888888888,1.1111111111111112,1.3333333333333333,1.5555555555555554,1.7777777777777777,2.0],[0.0,0.2222222222222222,0.4444444444444444,0.6666666666666666,0.8888888888888888,1.1111111111111112,1.3333333333333333,1.5555555555555554,1.7777777777777777,2.0],[0.0,0.2222222222222222,0.4444444444444444,0.6666666666666666,0.8888888888888888,1.1111111111111112,1.3333333333333333,1.5555555555555554,1.7777777777777777,2.0],[0.0,0.2222222222222222,0.4444444444444444,0.6666666666666666,0.8888888888888888,1.1111111111111112,1.3333333333333333,1.5555555555555554,1.7777777777777777,2.0],[0.0,0.2222222222222222,0.4444444444444444,0.6666666666666666,0.8888888888888888,1.1111111111111112,1.3333333333333333,1.5555555555555554,1.7777777777777777,2.0],[0.0,0.2222222222222222,0.4444444444444444,0.6666666666666666,0.8888888888888888,1.1111111111111112,1.3333333333333333,1.5555555555555554,1.7777777777777777,2.0],[0.0,0.2222222222222222,0.4444444444444444,0.6666666666666666,0.8888888888888888,1.1111111111111112,1.3333333333333333,1.5555555555555554,1.7777777777777777,2.0],[0.0,0.2222222222222222,0.4444444444444444,0.6666666666666666,0.8888888888888888,1.1111111111111112,1.3333333333333333,1.5555555555555554,1.7777777777777777,2.0],[0.0,0.2222222222222222,0.4444444444444444,0.6666666666666666,0.8888888888888888,1.1111111111111112,1.3333333333333333,1.5555555555555554,1.7777777777777777,2.0]],\"y\":[[0.0,0.0,0.0,0.0,0.0,0.0,0.0,0.0,0.0,0.0],[0.2222222222222222,0.2222222222222222,0.2222222222222222,0.2222222222222222,0.2222222222222222,0.2222222222222222,0.2222222222222222,0.2222222222222222,0.2222222222222222,0.2222222222222222],[0.4444444444444444,0.4444444444444444,0.4444444444444444,0.4444444444444444,0.4444444444444444,0.4444444444444444,0.4444444444444444,0.4444444444444444,0.4444444444444444,0.4444444444444444],[0.6666666666666666,0.6666666666666666,0.6666666666666666,0.6666666666666666,0.6666666666666666,0.6666666666666666,0.6666666666666666,0.6666666666666666,0.6666666666666666,0.6666666666666666],[0.8888888888888888,0.8888888888888888,0.8888888888888888,0.8888888888888888,0.8888888888888888,0.8888888888888888,0.8888888888888888,0.8888888888888888,0.8888888888888888,0.8888888888888888],[1.1111111111111112,1.1111111111111112,1.1111111111111112,1.1111111111111112,1.1111111111111112,1.1111111111111112,1.1111111111111112,1.1111111111111112,1.1111111111111112,1.1111111111111112],[1.3333333333333333,1.3333333333333333,1.3333333333333333,1.3333333333333333,1.3333333333333333,1.3333333333333333,1.3333333333333333,1.3333333333333333,1.3333333333333333,1.3333333333333333],[1.5555555555555554,1.5555555555555554,1.5555555555555554,1.5555555555555554,1.5555555555555554,1.5555555555555554,1.5555555555555554,1.5555555555555554,1.5555555555555554,1.5555555555555554],[1.7777777777777777,1.7777777777777777,1.7777777777777777,1.7777777777777777,1.7777777777777777,1.7777777777777777,1.7777777777777777,1.7777777777777777,1.7777777777777777,1.7777777777777777],[2.0,2.0,2.0,2.0,2.0,2.0,2.0,2.0,2.0,2.0]],\"z\":[[100.54299864729879,103.58569539209253,107.37226818134305,113.54886357909685,117.69435592580544,121.82065274733358,128.46528866809868,129.4702168607109,134.92138016359348,140.45489517413662],[101.60220543504097,107.68750605854984,114.54399896416648,115.90969398951233,122.52740796612024,124.96669890413192,128.7262598497332,134.8246978758316,139.05890082988637,144.04103327591113],[106.79726400980628,112.2570918705653,115.60184400379677,122.22494934535715,124.0529036052202,129.3733919685187,132.28307706963693,137.73604066644492,141.89322716570288,147.1245374706361],[109.90929736466373,115.44704580735923,117.95664265571325,121.78187966685348,128.52295678793104,132.08548774121888,137.3703934639789,140.74013027831452,146.55223818393137,150.03973017474323],[113.71234159297212,118.25034362599462,121.45738976335691,125.37951908256682,129.8912259511786,134.16358168516064,140.64499594198722,144.12927067359192,149.10052517170885,152.4242616176094],[118.6165544632967,120.20787189457728,123.85308303154439,129.57237892281955,133.62858875153228,138.57548555723093,144.68826672214595,147.48538680834994,151.6256861441662,158.19128629063525],[119.59473416028038,125.10117343055974,127.41679798962936,132.35246328188575,138.6751867356363,141.07684329674444,147.91487067105524,150.59117286416776,154.68839330771405,158.90291815303345],[121.91509593634252,126.14542920803571,132.87906885891218,137.26308830740027,139.2746513278532,145.24550706696428,149.094059009118,155.97973139596542,160.33738496973325,163.0875701952158],[126.79931275962531,131.15690528592276,136.26594695959878,138.4065760877187,146.38794626673877,149.29682075961946,154.09726421686904,158.96704170640328,161.55312788425462,167.71900095389137],[128.53737118369395,134.64875091087654,139.49793343398844,143.3373712552646,148.42206846673955,151.8628897920795,156.54914672246528,160.627601133407,165.59646443302736,170.62958338430317]],\"type\":\"surface\"}],                        {\"template\":{\"data\":{\"barpolar\":[{\"marker\":{\"line\":{\"color\":\"rgb(17,17,17)\",\"width\":0.5},\"pattern\":{\"fillmode\":\"overlay\",\"size\":10,\"solidity\":0.2}},\"type\":\"barpolar\"}],\"bar\":[{\"error_x\":{\"color\":\"#f2f5fa\"},\"error_y\":{\"color\":\"#f2f5fa\"},\"marker\":{\"line\":{\"color\":\"rgb(17,17,17)\",\"width\":0.5},\"pattern\":{\"fillmode\":\"overlay\",\"size\":10,\"solidity\":0.2}},\"type\":\"bar\"}],\"carpet\":[{\"aaxis\":{\"endlinecolor\":\"#A2B1C6\",\"gridcolor\":\"#506784\",\"linecolor\":\"#506784\",\"minorgridcolor\":\"#506784\",\"startlinecolor\":\"#A2B1C6\"},\"baxis\":{\"endlinecolor\":\"#A2B1C6\",\"gridcolor\":\"#506784\",\"linecolor\":\"#506784\",\"minorgridcolor\":\"#506784\",\"startlinecolor\":\"#A2B1C6\"},\"type\":\"carpet\"}],\"choropleth\":[{\"colorbar\":{\"outlinewidth\":0,\"ticks\":\"\"},\"type\":\"choropleth\"}],\"contourcarpet\":[{\"colorbar\":{\"outlinewidth\":0,\"ticks\":\"\"},\"type\":\"contourcarpet\"}],\"contour\":[{\"colorbar\":{\"outlinewidth\":0,\"ticks\":\"\"},\"colorscale\":[[0.0,\"#0d0887\"],[0.1111111111111111,\"#46039f\"],[0.2222222222222222,\"#7201a8\"],[0.3333333333333333,\"#9c179e\"],[0.4444444444444444,\"#bd3786\"],[0.5555555555555556,\"#d8576b\"],[0.6666666666666666,\"#ed7953\"],[0.7777777777777778,\"#fb9f3a\"],[0.8888888888888888,\"#fdca26\"],[1.0,\"#f0f921\"]],\"type\":\"contour\"}],\"heatmapgl\":[{\"colorbar\":{\"outlinewidth\":0,\"ticks\":\"\"},\"colorscale\":[[0.0,\"#0d0887\"],[0.1111111111111111,\"#46039f\"],[0.2222222222222222,\"#7201a8\"],[0.3333333333333333,\"#9c179e\"],[0.4444444444444444,\"#bd3786\"],[0.5555555555555556,\"#d8576b\"],[0.6666666666666666,\"#ed7953\"],[0.7777777777777778,\"#fb9f3a\"],[0.8888888888888888,\"#fdca26\"],[1.0,\"#f0f921\"]],\"type\":\"heatmapgl\"}],\"heatmap\":[{\"colorbar\":{\"outlinewidth\":0,\"ticks\":\"\"},\"colorscale\":[[0.0,\"#0d0887\"],[0.1111111111111111,\"#46039f\"],[0.2222222222222222,\"#7201a8\"],[0.3333333333333333,\"#9c179e\"],[0.4444444444444444,\"#bd3786\"],[0.5555555555555556,\"#d8576b\"],[0.6666666666666666,\"#ed7953\"],[0.7777777777777778,\"#fb9f3a\"],[0.8888888888888888,\"#fdca26\"],[1.0,\"#f0f921\"]],\"type\":\"heatmap\"}],\"histogram2dcontour\":[{\"colorbar\":{\"outlinewidth\":0,\"ticks\":\"\"},\"colorscale\":[[0.0,\"#0d0887\"],[0.1111111111111111,\"#46039f\"],[0.2222222222222222,\"#7201a8\"],[0.3333333333333333,\"#9c179e\"],[0.4444444444444444,\"#bd3786\"],[0.5555555555555556,\"#d8576b\"],[0.6666666666666666,\"#ed7953\"],[0.7777777777777778,\"#fb9f3a\"],[0.8888888888888888,\"#fdca26\"],[1.0,\"#f0f921\"]],\"type\":\"histogram2dcontour\"}],\"histogram2d\":[{\"colorbar\":{\"outlinewidth\":0,\"ticks\":\"\"},\"colorscale\":[[0.0,\"#0d0887\"],[0.1111111111111111,\"#46039f\"],[0.2222222222222222,\"#7201a8\"],[0.3333333333333333,\"#9c179e\"],[0.4444444444444444,\"#bd3786\"],[0.5555555555555556,\"#d8576b\"],[0.6666666666666666,\"#ed7953\"],[0.7777777777777778,\"#fb9f3a\"],[0.8888888888888888,\"#fdca26\"],[1.0,\"#f0f921\"]],\"type\":\"histogram2d\"}],\"histogram\":[{\"marker\":{\"pattern\":{\"fillmode\":\"overlay\",\"size\":10,\"solidity\":0.2}},\"type\":\"histogram\"}],\"mesh3d\":[{\"colorbar\":{\"outlinewidth\":0,\"ticks\":\"\"},\"type\":\"mesh3d\"}],\"parcoords\":[{\"line\":{\"colorbar\":{\"outlinewidth\":0,\"ticks\":\"\"}},\"type\":\"parcoords\"}],\"pie\":[{\"automargin\":true,\"type\":\"pie\"}],\"scatter3d\":[{\"line\":{\"colorbar\":{\"outlinewidth\":0,\"ticks\":\"\"}},\"marker\":{\"colorbar\":{\"outlinewidth\":0,\"ticks\":\"\"}},\"type\":\"scatter3d\"}],\"scattercarpet\":[{\"marker\":{\"colorbar\":{\"outlinewidth\":0,\"ticks\":\"\"}},\"type\":\"scattercarpet\"}],\"scattergeo\":[{\"marker\":{\"colorbar\":{\"outlinewidth\":0,\"ticks\":\"\"}},\"type\":\"scattergeo\"}],\"scattergl\":[{\"marker\":{\"line\":{\"color\":\"#283442\"}},\"type\":\"scattergl\"}],\"scattermapbox\":[{\"marker\":{\"colorbar\":{\"outlinewidth\":0,\"ticks\":\"\"}},\"type\":\"scattermapbox\"}],\"scatterpolargl\":[{\"marker\":{\"colorbar\":{\"outlinewidth\":0,\"ticks\":\"\"}},\"type\":\"scatterpolargl\"}],\"scatterpolar\":[{\"marker\":{\"colorbar\":{\"outlinewidth\":0,\"ticks\":\"\"}},\"type\":\"scatterpolar\"}],\"scatter\":[{\"marker\":{\"line\":{\"color\":\"#283442\"}},\"type\":\"scatter\"}],\"scatterternary\":[{\"marker\":{\"colorbar\":{\"outlinewidth\":0,\"ticks\":\"\"}},\"type\":\"scatterternary\"}],\"surface\":[{\"colorbar\":{\"outlinewidth\":0,\"ticks\":\"\"},\"colorscale\":[[0.0,\"#0d0887\"],[0.1111111111111111,\"#46039f\"],[0.2222222222222222,\"#7201a8\"],[0.3333333333333333,\"#9c179e\"],[0.4444444444444444,\"#bd3786\"],[0.5555555555555556,\"#d8576b\"],[0.6666666666666666,\"#ed7953\"],[0.7777777777777778,\"#fb9f3a\"],[0.8888888888888888,\"#fdca26\"],[1.0,\"#f0f921\"]],\"type\":\"surface\"}],\"table\":[{\"cells\":{\"fill\":{\"color\":\"#506784\"},\"line\":{\"color\":\"rgb(17,17,17)\"}},\"header\":{\"fill\":{\"color\":\"#2a3f5f\"},\"line\":{\"color\":\"rgb(17,17,17)\"}},\"type\":\"table\"}]},\"layout\":{\"annotationdefaults\":{\"arrowcolor\":\"#f2f5fa\",\"arrowhead\":0,\"arrowwidth\":1},\"autotypenumbers\":\"strict\",\"coloraxis\":{\"colorbar\":{\"outlinewidth\":0,\"ticks\":\"\"}},\"colorscale\":{\"diverging\":[[0,\"#8e0152\"],[0.1,\"#c51b7d\"],[0.2,\"#de77ae\"],[0.3,\"#f1b6da\"],[0.4,\"#fde0ef\"],[0.5,\"#f7f7f7\"],[0.6,\"#e6f5d0\"],[0.7,\"#b8e186\"],[0.8,\"#7fbc41\"],[0.9,\"#4d9221\"],[1,\"#276419\"]],\"sequential\":[[0.0,\"#0d0887\"],[0.1111111111111111,\"#46039f\"],[0.2222222222222222,\"#7201a8\"],[0.3333333333333333,\"#9c179e\"],[0.4444444444444444,\"#bd3786\"],[0.5555555555555556,\"#d8576b\"],[0.6666666666666666,\"#ed7953\"],[0.7777777777777778,\"#fb9f3a\"],[0.8888888888888888,\"#fdca26\"],[1.0,\"#f0f921\"]],\"sequentialminus\":[[0.0,\"#0d0887\"],[0.1111111111111111,\"#46039f\"],[0.2222222222222222,\"#7201a8\"],[0.3333333333333333,\"#9c179e\"],[0.4444444444444444,\"#bd3786\"],[0.5555555555555556,\"#d8576b\"],[0.6666666666666666,\"#ed7953\"],[0.7777777777777778,\"#fb9f3a\"],[0.8888888888888888,\"#fdca26\"],[1.0,\"#f0f921\"]]},\"colorway\":[\"#636efa\",\"#EF553B\",\"#00cc96\",\"#ab63fa\",\"#FFA15A\",\"#19d3f3\",\"#FF6692\",\"#B6E880\",\"#FF97FF\",\"#FECB52\"],\"font\":{\"color\":\"#f2f5fa\"},\"geo\":{\"bgcolor\":\"rgb(17,17,17)\",\"lakecolor\":\"rgb(17,17,17)\",\"landcolor\":\"rgb(17,17,17)\",\"showlakes\":true,\"showland\":true,\"subunitcolor\":\"#506784\"},\"hoverlabel\":{\"align\":\"left\"},\"hovermode\":\"closest\",\"mapbox\":{\"style\":\"dark\"},\"paper_bgcolor\":\"rgb(17,17,17)\",\"plot_bgcolor\":\"rgb(17,17,17)\",\"polar\":{\"angularaxis\":{\"gridcolor\":\"#506784\",\"linecolor\":\"#506784\",\"ticks\":\"\"},\"bgcolor\":\"rgb(17,17,17)\",\"radialaxis\":{\"gridcolor\":\"#506784\",\"linecolor\":\"#506784\",\"ticks\":\"\"}},\"scene\":{\"xaxis\":{\"backgroundcolor\":\"rgb(17,17,17)\",\"gridcolor\":\"#506784\",\"gridwidth\":2,\"linecolor\":\"#506784\",\"showbackground\":true,\"ticks\":\"\",\"zerolinecolor\":\"#C8D4E3\"},\"yaxis\":{\"backgroundcolor\":\"rgb(17,17,17)\",\"gridcolor\":\"#506784\",\"gridwidth\":2,\"linecolor\":\"#506784\",\"showbackground\":true,\"ticks\":\"\",\"zerolinecolor\":\"#C8D4E3\"},\"zaxis\":{\"backgroundcolor\":\"rgb(17,17,17)\",\"gridcolor\":\"#506784\",\"gridwidth\":2,\"linecolor\":\"#506784\",\"showbackground\":true,\"ticks\":\"\",\"zerolinecolor\":\"#C8D4E3\"}},\"shapedefaults\":{\"line\":{\"color\":\"#f2f5fa\"}},\"sliderdefaults\":{\"bgcolor\":\"#C8D4E3\",\"bordercolor\":\"rgb(17,17,17)\",\"borderwidth\":1,\"tickwidth\":0},\"ternary\":{\"aaxis\":{\"gridcolor\":\"#506784\",\"linecolor\":\"#506784\",\"ticks\":\"\"},\"baxis\":{\"gridcolor\":\"#506784\",\"linecolor\":\"#506784\",\"ticks\":\"\"},\"bgcolor\":\"rgb(17,17,17)\",\"caxis\":{\"gridcolor\":\"#506784\",\"linecolor\":\"#506784\",\"ticks\":\"\"}},\"title\":{\"x\":0.05},\"updatemenudefaults\":{\"bgcolor\":\"#506784\",\"borderwidth\":0},\"xaxis\":{\"automargin\":true,\"gridcolor\":\"#283442\",\"linecolor\":\"#506784\",\"ticks\":\"\",\"title\":{\"standoff\":15},\"zerolinecolor\":\"#283442\",\"zerolinewidth\":2},\"yaxis\":{\"automargin\":true,\"gridcolor\":\"#283442\",\"linecolor\":\"#506784\",\"ticks\":\"\",\"title\":{\"standoff\":15},\"zerolinecolor\":\"#283442\",\"zerolinewidth\":2}}},\"scene\":{\"xaxis\":{\"title\":{\"font\":{\"size\":10},\"text\":\"Genotype rs492602\"}},\"yaxis\":{\"title\":{\"font\":{\"size\":10},\"text\":\"Genotype rs8101881\"}},\"zaxis\":{\"title\":{\"font\":{\"size\":10},\"text\":\"Fucose Concentration (\\u00b5mol\\u002fL)\"}}},\"margin\":{\"l\":0,\"r\":0,\"b\":0,\"t\":50},\"title\":{\"text\":\"Relationship between SNPs rs492602 and rs8101881 and Fucose Concentration\"}},                        {\"responsive\": true}                    ).then(function(){\n",
       "                            \n",
       "var gd = document.getElementById('85c92238-17c3-46ec-8876-df6688fe3e2a');\n",
       "var x = new MutationObserver(function (mutations, observer) {{\n",
       "        var display = window.getComputedStyle(gd).display;\n",
       "        if (!display || display === 'none') {{\n",
       "            console.log([gd, 'removed!']);\n",
       "            Plotly.purge(gd);\n",
       "            observer.disconnect();\n",
       "        }}\n",
       "}});\n",
       "\n",
       "// Listen for the removal of the full notebook cells\n",
       "var notebookContainer = gd.closest('#notebook-container');\n",
       "if (notebookContainer) {{\n",
       "    x.observe(notebookContainer, {childList: true});\n",
       "}}\n",
       "\n",
       "// Listen for the clearing of the current output cell\n",
       "var outputEl = gd.closest('.output');\n",
       "if (outputEl) {{\n",
       "    x.observe(outputEl, {childList: true});\n",
       "}}\n",
       "\n",
       "                        })                };                });            </script>        </div>"
      ]
     },
     "metadata": {},
     "output_type": "display_data"
    }
   ],
   "source": [
    "import plotly.graph_objects as go\n",
    "import numpy as np\n",
    "\n",
    "# Fictional data simulating values for two SNPs\n",
    "snp_rs492602 = np.linspace(0, 2, 10)\n",
    "snp_rs8101881 = np.linspace(0, 2, 10)\n",
    "snp_rs492602, snp_rs8101881 = np.meshgrid(snp_rs492602, snp_rs8101881)\n",
    "\n",
    "# Simulating Fucose concentration as a function of the two SNPs\n",
    "concentracao_fucose = 100 + 20 * snp_rs492602 + 15 * snp_rs8101881 + np.random.normal(size=snp_rs492602.shape)\n",
    "\n",
    "# Creating the 3D figure\n",
    "fig = go.Figure(data=[go.Surface(z=concentracao_fucose, x=snp_rs492602, y=snp_rs8101881)])\n",
    "\n",
    "# Updating the layout of the plot to prevent overlapping axis titles\n",
    "fig.update_layout(\n",
    "    title=\"Relationship between SNPs rs492602 and rs8101881 and Fucose Concentration\",\n",
    "    scene=dict(\n",
    "        xaxis_title=dict(text=\"Genotype rs492602\", font=dict(size=10)),\n",
    "        yaxis_title=dict(text=\"Genotype rs8101881\", font=dict(size=10)),\n",
    "        zaxis_title=dict(text=\"Fucose Concentration (µmol/L)\", font=dict(size=10)),\n",
    "    ),\n",
    "    margin=dict(l=0, r=0, b=0, t=50),  # Adjusting margins\n",
    "    template=\"plotly_dark\"\n",
    ")\n",
    "\n",
    "# Displaying the plot\n",
    "fig.show()\n"
   ]
  },
  {
   "cell_type": "markdown",
   "id": "72a2de37-5d9e-4568-aa0e-70febd43933e",
   "metadata": {},
   "source": [
    "## Reference\n",
    "\n",
    "**Rueedi, R.**, Ledda, M., Nicholls, A. W., Salek, R. M., Marques-Vidal, P., Morya, E., Sameshima, K., Montoliu, I., Da Silva, L., Collino, S., Martin, F. P., Rezzi, S., Steinbeck, C., Waterworth, D. M., Waeber, G., Vollenweider, P., Beckmann, J. S., Le Coutre, J., Mooser, V., Bergmann, S., & Genick, U. K. (2014). Genome-wide association study of metabolic traits reveals novel gene-metabolite-disease links. PLoS Genetics, 10(2), e1004132. https://doi.org/10.1371/journal.pgen.1004132"
   ]
  }
 ],
 "metadata": {
  "kernelspec": {
   "display_name": "Python 3 (ipykernel)",
   "language": "python",
   "name": "python3"
  },
  "language_info": {
   "codemirror_mode": {
    "name": "ipython",
    "version": 3
   },
   "file_extension": ".py",
   "mimetype": "text/x-python",
   "name": "python",
   "nbconvert_exporter": "python",
   "pygments_lexer": "ipython3",
   "version": "3.10.13"
  }
 },
 "nbformat": 4,
 "nbformat_minor": 5
}
